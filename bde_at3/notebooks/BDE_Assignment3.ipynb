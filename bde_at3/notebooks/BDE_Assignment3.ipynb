{
 "cells": [
  {
   "cell_type": "code",
   "execution_count": 1,
   "id": "a2393071-e573-4b20-960a-c53c8a4014e3",
   "metadata": {
    "tags": []
   },
   "outputs": [],
   "source": [
    "#Auto load command\n",
    "%load_ext autoreload\n",
    "%autoreload 2"
   ]
  },
  {
   "cell_type": "code",
   "execution_count": 3,
   "id": "2d4cf1b5-16da-4c8e-8714-68d970b4fe1b",
   "metadata": {
    "tags": []
   },
   "outputs": [],
   "source": [
    "#Import packages\n",
    "import pandas as pd\n",
    "import numpy as np\n",
    "import glob"
   ]
  },
  {
   "cell_type": "code",
   "execution_count": 4,
   "id": "2c616299-afb0-4eba-a0cd-cf986ccdd146",
   "metadata": {
    "tags": []
   },
   "outputs": [],
   "source": [
    "# List all CSV files in the directory\n",
    "csv_files = glob.glob('01_2021.csv, 02_2021.csv, 03_2021.csv, 04_2021.csv, 05_2020.csv, 06_2020.csv,07_2020.csv,08_2020.csv,09_2020.csv,10_2020.csv,11_2020.csv,12_2020.csv')"
   ]
  },
  {
   "cell_type": "code",
   "execution_count": 5,
   "id": "1f01613b-ff80-45ee-ba47-ce81893cf00f",
   "metadata": {
    "tags": []
   },
   "outputs": [],
   "source": [
    "# Initialize an empty list to store dataframes\n",
    "dfs = []"
   ]
  },
  {
   "cell_type": "code",
   "execution_count": 6,
   "id": "8ba2ce8f-a79a-4400-a460-9e0511ea3afc",
   "metadata": {
    "tags": []
   },
   "outputs": [],
   "source": [
    "# Read each CSV file and append to the list\n",
    "for csv_file in csv_files:\n",
    "    df = pd.read_csv(csv_file)\n",
    "    dfs.append(df)"
   ]
  },
  {
   "cell_type": "code",
   "execution_count": null,
   "id": "cdad243e-74ef-48e0-a9e7-3e70d18a33b6",
   "metadata": {},
   "outputs": [],
   "source": []
  },
  {
   "cell_type": "code",
   "execution_count": null,
   "id": "d50f6990-0bdc-4a0d-b5ab-fa9762ff3d86",
   "metadata": {},
   "outputs": [],
   "source": []
  },
  {
   "cell_type": "code",
   "execution_count": null,
   "id": "d0f3ef61-16e2-49d8-8034-36236d8f7f9e",
   "metadata": {},
   "outputs": [],
   "source": []
  }
 ],
 "metadata": {
  "kernelspec": {
   "display_name": "Python 3 (ipykernel)",
   "language": "python",
   "name": "python3"
  },
  "language_info": {
   "codemirror_mode": {
    "name": "ipython",
    "version": 3
   },
   "file_extension": ".py",
   "mimetype": "text/x-python",
   "name": "python",
   "nbconvert_exporter": "python",
   "pygments_lexer": "ipython3",
   "version": "3.9.13"
  }
 },
 "nbformat": 4,
 "nbformat_minor": 5
}
